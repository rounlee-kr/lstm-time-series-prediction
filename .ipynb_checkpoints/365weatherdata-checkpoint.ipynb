{
 "cells": [
  {
   "cell_type": "code",
   "execution_count": 1,
   "id": "45f91db3-77ee-46f9-989f-15529ad7b209",
   "metadata": {
    "scrolled": true
   },
   "outputs": [
    {
     "name": "stderr",
     "output_type": "stream",
     "text": [
      "C:\\Users\\argos\\AppData\\Local\\Programs\\Python\\Python313\\Lib\\site-packages\\google\\protobuf\\runtime_version.py:98: UserWarning: Protobuf gencode version 5.28.3 is exactly one major version older than the runtime version 6.31.1 at tensorflow/core/framework/attr_value.proto. Please update the gencode to avoid compatibility violations in the next runtime release.\n",
      "  warnings.warn(\n",
      "C:\\Users\\argos\\AppData\\Local\\Programs\\Python\\Python313\\Lib\\site-packages\\google\\protobuf\\runtime_version.py:98: UserWarning: Protobuf gencode version 5.28.3 is exactly one major version older than the runtime version 6.31.1 at tensorflow/core/framework/tensor.proto. Please update the gencode to avoid compatibility violations in the next runtime release.\n",
      "  warnings.warn(\n",
      "C:\\Users\\argos\\AppData\\Local\\Programs\\Python\\Python313\\Lib\\site-packages\\google\\protobuf\\runtime_version.py:98: UserWarning: Protobuf gencode version 5.28.3 is exactly one major version older than the runtime version 6.31.1 at tensorflow/core/framework/resource_handle.proto. Please update the gencode to avoid compatibility violations in the next runtime release.\n",
      "  warnings.warn(\n",
      "C:\\Users\\argos\\AppData\\Local\\Programs\\Python\\Python313\\Lib\\site-packages\\google\\protobuf\\runtime_version.py:98: UserWarning: Protobuf gencode version 5.28.3 is exactly one major version older than the runtime version 6.31.1 at tensorflow/core/framework/tensor_shape.proto. Please update the gencode to avoid compatibility violations in the next runtime release.\n",
      "  warnings.warn(\n",
      "C:\\Users\\argos\\AppData\\Local\\Programs\\Python\\Python313\\Lib\\site-packages\\google\\protobuf\\runtime_version.py:98: UserWarning: Protobuf gencode version 5.28.3 is exactly one major version older than the runtime version 6.31.1 at tensorflow/core/framework/types.proto. Please update the gencode to avoid compatibility violations in the next runtime release.\n",
      "  warnings.warn(\n",
      "C:\\Users\\argos\\AppData\\Local\\Programs\\Python\\Python313\\Lib\\site-packages\\google\\protobuf\\runtime_version.py:98: UserWarning: Protobuf gencode version 5.28.3 is exactly one major version older than the runtime version 6.31.1 at tensorflow/core/framework/full_type.proto. Please update the gencode to avoid compatibility violations in the next runtime release.\n",
      "  warnings.warn(\n",
      "C:\\Users\\argos\\AppData\\Local\\Programs\\Python\\Python313\\Lib\\site-packages\\google\\protobuf\\runtime_version.py:98: UserWarning: Protobuf gencode version 5.28.3 is exactly one major version older than the runtime version 6.31.1 at tensorflow/core/framework/function.proto. Please update the gencode to avoid compatibility violations in the next runtime release.\n",
      "  warnings.warn(\n",
      "C:\\Users\\argos\\AppData\\Local\\Programs\\Python\\Python313\\Lib\\site-packages\\google\\protobuf\\runtime_version.py:98: UserWarning: Protobuf gencode version 5.28.3 is exactly one major version older than the runtime version 6.31.1 at tensorflow/core/framework/node_def.proto. Please update the gencode to avoid compatibility violations in the next runtime release.\n",
      "  warnings.warn(\n",
      "C:\\Users\\argos\\AppData\\Local\\Programs\\Python\\Python313\\Lib\\site-packages\\google\\protobuf\\runtime_version.py:98: UserWarning: Protobuf gencode version 5.28.3 is exactly one major version older than the runtime version 6.31.1 at tensorflow/core/framework/op_def.proto. Please update the gencode to avoid compatibility violations in the next runtime release.\n",
      "  warnings.warn(\n",
      "C:\\Users\\argos\\AppData\\Local\\Programs\\Python\\Python313\\Lib\\site-packages\\google\\protobuf\\runtime_version.py:98: UserWarning: Protobuf gencode version 5.28.3 is exactly one major version older than the runtime version 6.31.1 at tensorflow/core/framework/graph.proto. Please update the gencode to avoid compatibility violations in the next runtime release.\n",
      "  warnings.warn(\n",
      "C:\\Users\\argos\\AppData\\Local\\Programs\\Python\\Python313\\Lib\\site-packages\\google\\protobuf\\runtime_version.py:98: UserWarning: Protobuf gencode version 5.28.3 is exactly one major version older than the runtime version 6.31.1 at tensorflow/core/framework/graph_debug_info.proto. Please update the gencode to avoid compatibility violations in the next runtime release.\n",
      "  warnings.warn(\n",
      "C:\\Users\\argos\\AppData\\Local\\Programs\\Python\\Python313\\Lib\\site-packages\\google\\protobuf\\runtime_version.py:98: UserWarning: Protobuf gencode version 5.28.3 is exactly one major version older than the runtime version 6.31.1 at tensorflow/core/framework/versions.proto. Please update the gencode to avoid compatibility violations in the next runtime release.\n",
      "  warnings.warn(\n",
      "C:\\Users\\argos\\AppData\\Local\\Programs\\Python\\Python313\\Lib\\site-packages\\google\\protobuf\\runtime_version.py:98: UserWarning: Protobuf gencode version 5.28.3 is exactly one major version older than the runtime version 6.31.1 at tensorflow/core/protobuf/config.proto. Please update the gencode to avoid compatibility violations in the next runtime release.\n",
      "  warnings.warn(\n",
      "C:\\Users\\argos\\AppData\\Local\\Programs\\Python\\Python313\\Lib\\site-packages\\google\\protobuf\\runtime_version.py:98: UserWarning: Protobuf gencode version 5.28.3 is exactly one major version older than the runtime version 6.31.1 at xla/tsl/protobuf/coordination_config.proto. Please update the gencode to avoid compatibility violations in the next runtime release.\n",
      "  warnings.warn(\n",
      "C:\\Users\\argos\\AppData\\Local\\Programs\\Python\\Python313\\Lib\\site-packages\\google\\protobuf\\runtime_version.py:98: UserWarning: Protobuf gencode version 5.28.3 is exactly one major version older than the runtime version 6.31.1 at tensorflow/core/framework/cost_graph.proto. Please update the gencode to avoid compatibility violations in the next runtime release.\n",
      "  warnings.warn(\n",
      "C:\\Users\\argos\\AppData\\Local\\Programs\\Python\\Python313\\Lib\\site-packages\\google\\protobuf\\runtime_version.py:98: UserWarning: Protobuf gencode version 5.28.3 is exactly one major version older than the runtime version 6.31.1 at tensorflow/core/framework/step_stats.proto. Please update the gencode to avoid compatibility violations in the next runtime release.\n",
      "  warnings.warn(\n",
      "C:\\Users\\argos\\AppData\\Local\\Programs\\Python\\Python313\\Lib\\site-packages\\google\\protobuf\\runtime_version.py:98: UserWarning: Protobuf gencode version 5.28.3 is exactly one major version older than the runtime version 6.31.1 at tensorflow/core/framework/allocation_description.proto. Please update the gencode to avoid compatibility violations in the next runtime release.\n",
      "  warnings.warn(\n",
      "C:\\Users\\argos\\AppData\\Local\\Programs\\Python\\Python313\\Lib\\site-packages\\google\\protobuf\\runtime_version.py:98: UserWarning: Protobuf gencode version 5.28.3 is exactly one major version older than the runtime version 6.31.1 at tensorflow/core/framework/tensor_description.proto. Please update the gencode to avoid compatibility violations in the next runtime release.\n",
      "  warnings.warn(\n",
      "C:\\Users\\argos\\AppData\\Local\\Programs\\Python\\Python313\\Lib\\site-packages\\google\\protobuf\\runtime_version.py:98: UserWarning: Protobuf gencode version 5.28.3 is exactly one major version older than the runtime version 6.31.1 at tensorflow/core/protobuf/cluster.proto. Please update the gencode to avoid compatibility violations in the next runtime release.\n",
      "  warnings.warn(\n",
      "C:\\Users\\argos\\AppData\\Local\\Programs\\Python\\Python313\\Lib\\site-packages\\google\\protobuf\\runtime_version.py:98: UserWarning: Protobuf gencode version 5.28.3 is exactly one major version older than the runtime version 6.31.1 at tensorflow/core/protobuf/debug.proto. Please update the gencode to avoid compatibility violations in the next runtime release.\n",
      "  warnings.warn(\n"
     ]
    }
   ],
   "source": [
    "import math\n",
    "import pandas as pd\n",
    "import numpy as np\n",
    "import matplotlib as mpl\n",
    "from windrose import WindroseAxes\n",
    "import matplotlib.pyplot as plt\n",
    "from sklearn.preprocessing import MinMaxScaler\n",
    "from tensorflow.keras.models import Sequential\n",
    "from tensorflow.keras.layers import LSTM, Dense, Reshape, Input, Dropout\n",
    "from ipywidgets import interact, Dropdown, IntSlider, Layout\n",
    "import glob\n",
    "import os\n",
    "import plotly\n",
    "import plotly.express as px\n",
    "import plotly.graph_objects as go\n",
    "from datetime import timedelta\n",
    "%matplotlib inline\n",
    "plt.rcParams['font.family'] = 'Malgun Gothic'\n",
    "plt.rcParams['axes.unicode_minus'] = False"
   ]
  },
  {
   "cell_type": "code",
   "execution_count": 2,
   "id": "a3205f1b-82f0-4760-b182-c5a6092c6662",
   "metadata": {},
   "outputs": [],
   "source": [
    "# import plotly.io as pio\n",
    "# pio.renderers.default = \"notebook\"\n",
    "# plotly.offline.init_notebook_mode(connected=True)"
   ]
  },
  {
   "cell_type": "code",
   "execution_count": 3,
   "id": "4854ae95-2bc6-426f-9693-4339bb21f3c2",
   "metadata": {},
   "outputs": [
    {
     "name": "stdout",
     "output_type": "stream",
     "text": [
      "✅ 모든 파일이 병합되고 데이터 정리가 완료되었습니다.\n",
      "\n",
      "통합된 데이터프레임의 상위 5개 행:\n",
      "   날짜 (년-월-일) 평균기온 ( ℃ ) 최고기온 ( ℃ ) 최저기온 ( ℃ ) 습도 ( % ) 풍향 (방향) 풍속 ( m/s )  \\\n",
      "0  2015-01-01       -6.6       -2.5      -12.1     47.1     서남서        2.2   \n",
      "1  2015-01-02       -7.5       -0.2      -14.5     63.6     서남서        1.6   \n",
      "2  2015-01-03       -7.6        2.7      -17.4     70.1      남서        0.7   \n",
      "3  2015-01-04       -1.5        8.8       -7.2     77.9       남        0.5   \n",
      "4  2015-01-05         -1        7.8       -8.5     82.5      남동        0.4   \n",
      "\n",
      "  강수량 ( mm ) 일사량 ( MJ/㎡ ) 일조시간 ( hr:mm )  \n",
      "0          0           10              -  \n",
      "1          0          9.4              -  \n",
      "2          0          9.9              -  \n",
      "3          0          6.7              -  \n",
      "4          1          6.7              -  \n",
      "\n",
      "통합된 데이터프레임의 정보:\n",
      "<class 'pandas.core.frame.DataFrame'>\n",
      "RangeIndex: 3882 entries, 0 to 3881\n",
      "Data columns (total 10 columns):\n",
      " #   Column          Non-Null Count  Dtype \n",
      "---  ------          --------------  ----- \n",
      " 0   날짜 (년-월-일)      3882 non-null   object\n",
      " 1   평균기온 ( ℃ )      3882 non-null   object\n",
      " 2   최고기온 ( ℃ )      3882 non-null   object\n",
      " 3   최저기온 ( ℃ )      3882 non-null   object\n",
      " 4   습도 ( % )        3882 non-null   object\n",
      " 5   풍향 (방향)         3882 non-null   object\n",
      " 6   풍속 ( m/s )      3882 non-null   object\n",
      " 7   강수량 ( mm )      3882 non-null   object\n",
      " 8   일사량 ( MJ/㎡ )    3882 non-null   object\n",
      " 9   일조시간 ( hr:mm )  3882 non-null   object\n",
      "dtypes: object(10)\n",
      "memory usage: 303.4+ KB\n"
     ]
    }
   ],
   "source": [
    "dir_path = '365_weather'\n",
    "file_list = glob.glob(os.path.join(dir_path, '*.csv'))\n",
    "df_list = []\n",
    "\n",
    "for file_path in file_list:\n",
    "    try:\n",
    "        df = pd.read_csv(file_path, header=None)\n",
    "\n",
    "        new_columns = []\n",
    "        for col_name, unit in zip(df.iloc[1], df.iloc[2]):\n",
    "            if pd.isna(unit) or unit == '-':\n",
    "                new_columns.append(col_name)\n",
    "            else:\n",
    "                new_columns.append(f\"{col_name} {unit}\")\n",
    "\n",
    "        df.columns = new_columns\n",
    "        df_cleaned = df.iloc[7:].copy()\n",
    "\n",
    "        if '일조시간 (hr:mm)' in df_cleaned.columns:\n",
    "            df_cleaned = df_cleaned.drop('일조시간 (hr:mm)', axis=1)\n",
    "        df_list.append(df_cleaned)\n",
    "\n",
    "    except Exception as e:\n",
    "        print(f\"Error processing {file_path}: {e}\")\n",
    "\n",
    "if df_list:\n",
    "    merged_df = pd.concat(df_list, ignore_index=True)\n",
    "    \n",
    "    print(\"✅ 모든 파일이 병합되고 데이터 정리가 완료되었습니다.\")\n",
    "    print(\"\\n통합된 데이터프레임의 상위 5개 행:\")\n",
    "    print(merged_df.head())\n",
    "    print(\"\\n통합된 데이터프레임의 정보:\")\n",
    "    merged_df.info()\n",
    "\n",
    "else:\n",
    "    print(\"디렉터리 내에 csv 파일이 없습니다.\")"
   ]
  },
  {
   "cell_type": "code",
   "execution_count": 4,
   "id": "0f23ea76-720a-4507-93ea-a550ea40dd0a",
   "metadata": {},
   "outputs": [
    {
     "name": "stdout",
     "output_type": "stream",
     "text": [
      "데이터프레임이 '365_weather_cleaned.csv' 파일로 성공적으로 저장되었습니다.\n"
     ]
    }
   ],
   "source": [
    "merged_df.to_csv('365_weather_cleaned.csv', index=False, encoding='utf-8-sig')\n",
    "print(\"데이터프레임이 '365_weather_cleaned.csv' 파일로 성공적으로 저장되었습니다.\")"
   ]
  },
  {
   "cell_type": "code",
   "execution_count": 5,
   "id": "cce0cd84-6a52-4e88-bc88-1c93ce9ef324",
   "metadata": {},
   "outputs": [],
   "source": [
    "weather_df_raw = merged_df.drop('일조시간 ( hr:mm )', axis=1)"
   ]
  },
  {
   "cell_type": "code",
   "execution_count": 6,
   "id": "2f839293-1868-41ea-8d25-f5c24c0ae68c",
   "metadata": {},
   "outputs": [],
   "source": [
    "weather_df = weather_df_raw.replace('-', np.nan)"
   ]
  },
  {
   "cell_type": "code",
   "execution_count": 7,
   "id": "b8eda0b3-24cb-409f-86bd-fad585173025",
   "metadata": {},
   "outputs": [
    {
     "name": "stdout",
     "output_type": "stream",
     "text": [
      "3867\n"
     ]
    }
   ],
   "source": [
    "weather_df = weather_df.dropna()\n",
    "print(len(weather_df))"
   ]
  },
  {
   "cell_type": "code",
   "execution_count": 8,
   "id": "42d84411-6a89-4149-a749-e75fc3d58bdd",
   "metadata": {},
   "outputs": [],
   "source": [
    "weather_df['날짜 (년-월-일)'] = pd.to_datetime(weather_df['날짜 (년-월-일)'], format=\"%Y-%m-%d\")"
   ]
  },
  {
   "cell_type": "code",
   "execution_count": 9,
   "id": "f7969b23-dd7c-486d-8908-75b7e45eab3a",
   "metadata": {},
   "outputs": [
    {
     "data": {
      "text/plain": [
       "날짜 (년-월-일)      2025-08-20 00:00:00\n",
       "평균기온 ( ℃ )                      9.9\n",
       "최고기온 ( ℃ )                      9.9\n",
       "최저기온 ( ℃ )                      9.9\n",
       "습도 ( % )                       99.9\n",
       "풍향 (방향)                         서남서\n",
       "풍속 ( m/s )                      3.5\n",
       "강수량 ( mm )                     94.5\n",
       "일사량 ( MJ/㎡ )                    9.9\n",
       "dtype: object"
      ]
     },
     "execution_count": 9,
     "metadata": {},
     "output_type": "execute_result"
    }
   ],
   "source": [
    "weather_df.max()"
   ]
  },
  {
   "cell_type": "code",
   "execution_count": 10,
   "id": "28726091-6da0-471e-97f0-50757d275e0f",
   "metadata": {},
   "outputs": [
    {
     "data": {
      "text/plain": [
       "날짜 (년-월-일)      2015-01-01 00:00:00\n",
       "평균기온 ( ℃ )                     -0.1\n",
       "최고기온 ( ℃ )                     -0.1\n",
       "최저기온 ( ℃ )                     -0.1\n",
       "습도 ( % )                        100\n",
       "풍향 (방향)                           남\n",
       "풍속 ( m/s )                      0.1\n",
       "강수량 ( mm )                        0\n",
       "일사량 ( MJ/㎡ )                      0\n",
       "dtype: object"
      ]
     },
     "execution_count": 10,
     "metadata": {},
     "output_type": "execute_result"
    }
   ],
   "source": [
    "weather_df.min()"
   ]
  },
  {
   "cell_type": "code",
   "execution_count": 11,
   "id": "2e848695-bd4f-4f91-952a-de90e4fbbe26",
   "metadata": {},
   "outputs": [],
   "source": [
    "numeric_cols = ['평균기온 ( ℃ )', '최고기온 ( ℃ )', '최저기온 ( ℃ )', '습도 ( % )',\n",
    "                '풍속 ( m/s )', '강수량 ( mm )', '일사량 ( MJ/㎡ )']\n",
    "\n",
    "for col in numeric_cols:\n",
    "    weather_df[col] = pd.to_numeric(weather_df[col], errors='coerce')"
   ]
  },
  {
   "cell_type": "code",
   "execution_count": 12,
   "id": "814a0c9f-2993-4bdb-9487-ef38b66bf7b1",
   "metadata": {},
   "outputs": [],
   "source": [
    "weather_df['연도'] = weather_df['날짜 (년-월-일)'].dt.year\n",
    "weather_df['월'] = weather_df['날짜 (년-월-일)'].dt.month\n",
    "\n",
    "plot_columns = [\n",
    "    '평균기온 ( ℃ )', '최고기온 ( ℃ )', '최저기온 ( ℃ )', '습도 ( % )',\n",
    "    '풍속 ( m/s )', '강수량 ( mm )', '일사량 ( MJ/㎡ )'\n",
    "]"
   ]
  },
  {
   "cell_type": "code",
   "execution_count": 30,
   "id": "db3b7cc9-11cf-4099-b8e1-32762ef0a84e",
   "metadata": {},
   "outputs": [],
   "source": [
    "def plot_daily_trend(feature, year):\n",
    "    df_filtered = weather_df[weather_df['연도'] == year].copy()\n",
    "\n",
    "    fig = go.Figure()\n",
    "    fig.add_trace(go.Scatter(\n",
    "        x=df_filtered['날짜 (년-월-일)'], \n",
    "        y=df_filtered[feature], \n",
    "        mode='lines+markers', \n",
    "        name=f'{year}년'\n",
    "    ))\n",
    "\n",
    "    fig.update_layout(\n",
    "        title=f'{year}년 일별 {feature} 변화 추세',\n",
    "        xaxis_title='날짜',\n",
    "        yaxis_title=feature,\n",
    "        template='plotly_white',\n",
    "        width = 1400,\n",
    "        height = 600\n",
    "    )\n",
    "    fig.show()"
   ]
  },
  {
   "cell_type": "code",
   "execution_count": 31,
   "id": "2a512820-2dda-443c-ae75-6eb7fc7f566d",
   "metadata": {},
   "outputs": [],
   "source": [
    "def plot_daily_data(feature, year, month):\n",
    "    df_filtered = weather_df[(weather_df['연도'] == year) & (weather_df['월'] == month)].copy()\n",
    "    df_filtered['일'] = df_filtered['날짜 (년-월-일)'].dt.day\n",
    "\n",
    "    fig = go.Figure()\n",
    "    fig.add_trace(go.Scatter(\n",
    "        x=df_filtered['일'], \n",
    "        y=df_filtered[feature], \n",
    "        mode='lines+markers', \n",
    "        name=f'{year}년 {month}월'\n",
    "    ))\n",
    "\n",
    "    fig.update_layout(\n",
    "        title=f'{year}년 {month}월 일별 {feature} 변화',\n",
    "        xaxis_title='일',\n",
    "        yaxis_title=feature,\n",
    "        xaxis=dict(tickmode='array', tickvals=df_filtered['일']),\n",
    "        template='plotly_white',\n",
    "        width = 1400,\n",
    "        height = 600\n",
    "    )\n",
    "    fig.show()"
   ]
  },
  {
   "cell_type": "code",
   "execution_count": 32,
   "id": "104e2a9d-1333-41dd-8d14-d06316834fa9",
   "metadata": {},
   "outputs": [],
   "source": [
    "slider_layout = Layout(width='700px')"
   ]
  },
  {
   "cell_type": "code",
   "execution_count": 33,
   "id": "93abca4f-c7f5-40e7-ada9-1dbb00fd02f5",
   "metadata": {},
   "outputs": [
    {
     "data": {
      "application/vnd.jupyter.widget-view+json": {
       "model_id": "9324038a5fbb429d92cf18eac20d5b67",
       "version_major": 2,
       "version_minor": 0
      },
      "text/plain": [
       "interactive(children=(Dropdown(description='지표 선택', options=('평균기온 ( ℃ )', '최고기온 ( ℃ )', '최저기온 ( ℃ )', '습도 ( %…"
      ]
     },
     "metadata": {},
     "output_type": "display_data"
    },
    {
     "data": {
      "text/plain": [
       "<function __main__.plot_daily_trend(feature, year)>"
      ]
     },
     "execution_count": 33,
     "metadata": {},
     "output_type": "execute_result"
    }
   ],
   "source": [
    "interact(plot_daily_trend, \n",
    "         feature=Dropdown(options=numeric_cols, description='지표 선택'),\n",
    "         year=IntSlider(min=weather_df['연도'].min(), max=weather_df['연도'].max(), step=1, value=weather_df['연도'].min(), description='연도 선택', layout=slider_layout))"
   ]
  },
  {
   "cell_type": "code",
   "execution_count": 34,
   "id": "a5c65cfd-1795-4c3d-b1c8-6b72dce812ba",
   "metadata": {},
   "outputs": [
    {
     "data": {
      "application/vnd.jupyter.widget-view+json": {
       "model_id": "9205e8f1b01f4a78bfb912b24bb6edda",
       "version_major": 2,
       "version_minor": 0
      },
      "text/plain": [
       "interactive(children=(Dropdown(description='지표 선택', options=('평균기온 ( ℃ )', '최고기온 ( ℃ )', '최저기온 ( ℃ )', '습도 ( %…"
      ]
     },
     "metadata": {},
     "output_type": "display_data"
    },
    {
     "data": {
      "text/plain": [
       "<function __main__.plot_daily_data(feature, year, month)>"
      ]
     },
     "execution_count": 34,
     "metadata": {},
     "output_type": "execute_result"
    }
   ],
   "source": [
    "interact(plot_daily_data, \n",
    "         feature=Dropdown(options=plot_columns, description='지표 선택'),\n",
    "         year=IntSlider(min=weather_df['연도'].min(), max=weather_df['연도'].max(), step=1, value=weather_df['연도'].min(), description='연도 선택', layout=slider_layout),\n",
    "         month=IntSlider(min=1, max=12, step=1, value=1, description='월 선택', layout=slider_layout))"
   ]
  },
  {
   "cell_type": "code",
   "execution_count": 18,
   "id": "04ff2bf3-b03a-4ad0-8f2e-9d32039f3350",
   "metadata": {},
   "outputs": [
    {
     "data": {
      "text/plain": [
       "풍향 (방향)\n",
       "서남서    1003\n",
       "남서      695\n",
       "남남서     491\n",
       "동남동     449\n",
       "남       342\n",
       "동       316\n",
       "남동      270\n",
       "남남동     247\n",
       "서        44\n",
       "동북동      10\n",
       "Name: count, dtype: int64"
      ]
     },
     "execution_count": 18,
     "metadata": {},
     "output_type": "execute_result"
    }
   ],
   "source": [
    "weather_df['풍향 (방향)'].value_counts()"
   ]
  },
  {
   "cell_type": "code",
   "execution_count": 19,
   "id": "4c902419-e0a1-4752-b690-87d52aad7e14",
   "metadata": {},
   "outputs": [
    {
     "name": "stdout",
     "output_type": "stream",
     "text": [
      "삭제 후 행의 개수: 3867\n"
     ]
    }
   ],
   "source": [
    "weather_df = weather_df[weather_df['풍향 (방향)'] != '-']\n",
    "\n",
    "print(\"삭제 후 행의 개수:\", len(weather_df))"
   ]
  },
  {
   "cell_type": "code",
   "execution_count": 20,
   "id": "790d4231-8bd4-4e97-9ccd-db19088b5097",
   "metadata": {},
   "outputs": [
    {
     "name": "stdout",
     "output_type": "stream",
     "text": [
      "['서남서' '남서' '남' '남동' '동남동' '남남동' '남남서' '동' '서' '동북동']\n"
     ]
    }
   ],
   "source": [
    "unique_directions = weather_df['풍향 (방향)'].unique()\n",
    "print(unique_directions)"
   ]
  },
  {
   "cell_type": "code",
   "execution_count": 21,
   "id": "1f26bbab-0b79-47dc-aee9-bb4ff68ec1ae",
   "metadata": {},
   "outputs": [
    {
     "name": "stdout",
     "output_type": "stream",
     "text": [
      "   풍향 (방향)\n",
      "0    247.5\n",
      "1    247.5\n",
      "2    225.0\n",
      "3    180.0\n",
      "4    135.0\n"
     ]
    }
   ],
   "source": [
    "direction_mapping = {\n",
    "    '북': 0, '북북동': 22.5, '북동': 45, '동북동': 67.5,\n",
    "    '동': 90, '동남동': 112.5, '남동': 135, '남남동': 157.5,\n",
    "    '남': 180, '남남서': 202.5, '남서': 225, '서남서': 247.5,\n",
    "    '서': 270, '서북서': 292.5, '북서': 315, '북북서': 337.5,\n",
    "}\n",
    "\n",
    "weather_df['풍향 (방향)'] = weather_df['풍향 (방향)'].map(direction_mapping)\n",
    "print(weather_df[['풍향 (방향)']].head())"
   ]
  },
  {
   "cell_type": "code",
   "execution_count": 22,
   "id": "643521d6-253d-4aeb-9c74-cb0d3c7cd8a8",
   "metadata": {},
   "outputs": [],
   "source": [
    "def plot_windrose(year, month):\n",
    "    \n",
    "    df_filtered = weather_df[(weather_df['연도'] == year) & (weather_df['월'] == month)].copy()\n",
    "    \n",
    "    bins = pd.cut(df_filtered['풍속 ( m/s )'], bins=[0, 2, 4, 6, 8, np.inf], labels=['0-2', '2-4', '4-6', '6-8', '8+'])\n",
    "    df_filtered['풍속 (분류)'] = bins\n",
    "\n",
    "    bins_angles = np.arange(0, 360 + 22.5, 22.5)\n",
    "    bins_labels = ['북', '북북동', '북동', '동북동', '동', '동남동', '남동', '남남동', '남', '남남서', '남서', '서남서', '서', '서북서', '북서', '북북서']\n",
    "    df_filtered['풍향 (16방위)'] = pd.cut(df_filtered['풍향 (방향)'], bins=bins_angles, labels=bins_labels, right=False)\n",
    "\n",
    "    windrose_data = df_filtered.groupby(['풍향 (16방위)', '풍속 (분류)'], observed=False).size().reset_index(name='빈도')\n",
    "\n",
    "    fig = px.bar_polar(\n",
    "        windrose_data,\n",
    "        r='빈도',\n",
    "        theta='풍향 (16방위)',\n",
    "        color='풍속 (분류)',\n",
    "        category_orders={\"풍속 (분류)\": ['0-2', '2-4', '4-6', '6-8', '8+'], \"풍향 (16방위)\": bins_labels},\n",
    "        color_discrete_sequence=px.colors.sequential.Plasma_r,\n",
    "        title=f'{year}년 {month}월 풍향/풍속 분포'\n",
    "    )\n",
    "\n",
    "    fig.update_layout(\n",
    "        polar_radialaxis_ticks='inside',\n",
    "        polar_angularaxis_direction=\"clockwise\",\n",
    "        width=1000,\n",
    "        height=1000\n",
    "    )\n",
    "\n",
    "    fig.show()"
   ]
  },
  {
   "cell_type": "code",
   "execution_count": 23,
   "id": "60b250e2-33e0-4a72-9ac2-64bff8b19270",
   "metadata": {},
   "outputs": [
    {
     "data": {
      "application/vnd.jupyter.widget-view+json": {
       "model_id": "0894be9e9aaf49aebc394904e2ee3dd3",
       "version_major": 2,
       "version_minor": 0
      },
      "text/plain": [
       "interactive(children=(IntSlider(value=2015, description='연도 선택', layout=Layout(width='700px'), max=2025, min=2…"
      ]
     },
     "metadata": {},
     "output_type": "display_data"
    },
    {
     "data": {
      "text/plain": [
       "<function __main__.plot_windrose(year, month)>"
      ]
     },
     "execution_count": 23,
     "metadata": {},
     "output_type": "execute_result"
    }
   ],
   "source": [
    "interact(plot_windrose, \n",
    "         year=IntSlider(min=weather_df['연도'].min(), max=weather_df['연도'].max(), step=1, value=weather_df['연도'].min(), description='연도 선택', layout=slider_layout),\n",
    "         month=IntSlider(min=1, max=12, step=1, value=1, description='월 선택', layout=slider_layout))"
   ]
  },
  {
   "cell_type": "code",
   "execution_count": 24,
   "id": "4bd7acd7-fbae-44e0-81f3-23ba76f23d5f",
   "metadata": {},
   "outputs": [],
   "source": [
    "df_lstm = weather_df.drop(columns=['연도', '월'])"
   ]
  },
  {
   "cell_type": "code",
   "execution_count": 25,
   "id": "a552370f-2a10-4619-9782-86e28da40a70",
   "metadata": {},
   "outputs": [],
   "source": [
    "df_lstm['월'] = df_lstm['날짜 (년-월-일)'].dt.month\n",
    "df_lstm['월_sin'] = np.sin(2 * np.pi * df_lstm['월'] / 12.0)\n",
    "df_lstm['월_cos'] = np.cos(2 * np.pi * df_lstm['월'] / 12.0)\n",
    "\n",
    "df_lstm['일'] = df_lstm['날짜 (년-월-일)'].dt.day\n",
    "df_lstm['일수'] = df_lstm['날짜 (년-월-일)'].dt.daysinmonth\n",
    "df_lstm['일_sin'] = np.sin(2 * np.pi * df_lstm['일'] / df_lstm['일수'])\n",
    "df_lstm['일_cos'] = np.cos(2 * np.pi * df_lstm['일'] / df_lstm['일수'])\n",
    "\n",
    "df_lstm['년'] = df_lstm['날짜 (년-월-일)'].dt.year"
   ]
  },
  {
   "cell_type": "code",
   "execution_count": 26,
   "id": "60fcfcf3-0602-47b6-9999-b545ec6d2928",
   "metadata": {},
   "outputs": [],
   "source": [
    "df_lstm = df_lstm.drop(columns = ['월', '일', '일수'])"
   ]
  },
  {
   "cell_type": "code",
   "execution_count": 27,
   "id": "46e0f399-b10c-49c8-ac62-0ccc377001f7",
   "metadata": {},
   "outputs": [],
   "source": [
    "data = df_lstm.drop(columns = ['날짜 (년-월-일)'])"
   ]
  },
  {
   "cell_type": "code",
   "execution_count": 28,
   "id": "2bb2b449-718f-436d-89b9-91e7625ce306",
   "metadata": {
    "scrolled": true
   },
   "outputs": [
    {
     "name": "stdout",
     "output_type": "stream",
     "text": [
      "Epoch 1/50\n",
      "94/94 ━━━━━━━━━━━━━━━━━━━━ 2s 14ms/step - loss: 0.0992 - val_loss: 0.0372\n",
      "Epoch 2/50\n",
      "94/94 ━━━━━━━━━━━━━━━━━━━━ 1s 13ms/step - loss: 0.0292 - val_loss: 0.0256\n",
      "Epoch 3/50\n",
      "94/94 ━━━━━━━━━━━━━━━━━━━━ 1s 13ms/step - loss: 0.0241 - val_loss: 0.0240\n",
      "Epoch 4/50\n",
      "94/94 ━━━━━━━━━━━━━━━━━━━━ 1s 13ms/step - loss: 0.0233 - val_loss: 0.0236\n",
      "Epoch 5/50\n",
      "94/94 ━━━━━━━━━━━━━━━━━━━━ 1s 13ms/step - loss: 0.0220 - val_loss: 0.0225\n",
      "Epoch 6/50\n",
      "94/94 ━━━━━━━━━━━━━━━━━━━━ 1s 13ms/step - loss: 0.0210 - val_loss: 0.0223\n",
      "Epoch 7/50\n",
      "94/94 ━━━━━━━━━━━━━━━━━━━━ 1s 13ms/step - loss: 0.0206 - val_loss: 0.0222\n",
      "Epoch 8/50\n",
      "94/94 ━━━━━━━━━━━━━━━━━━━━ 1s 13ms/step - loss: 0.0205 - val_loss: 0.0223\n",
      "Epoch 9/50\n",
      "94/94 ━━━━━━━━━━━━━━━━━━━━ 1s 13ms/step - loss: 0.0205 - val_loss: 0.0222\n",
      "Epoch 10/50\n",
      "94/94 ━━━━━━━━━━━━━━━━━━━━ 1s 13ms/step - loss: 0.0204 - val_loss: 0.0224\n",
      "Epoch 11/50\n",
      "94/94 ━━━━━━━━━━━━━━━━━━━━ 1s 13ms/step - loss: 0.0204 - val_loss: 0.0225\n",
      "Epoch 12/50\n",
      "94/94 ━━━━━━━━━━━━━━━━━━━━ 1s 13ms/step - loss: 0.0203 - val_loss: 0.0225\n",
      "Epoch 13/50\n",
      "94/94 ━━━━━━━━━━━━━━━━━━━━ 1s 13ms/step - loss: 0.0203 - val_loss: 0.0222\n",
      "Epoch 14/50\n",
      "94/94 ━━━━━━━━━━━━━━━━━━━━ 1s 13ms/step - loss: 0.0202 - val_loss: 0.0223\n",
      "Epoch 15/50\n",
      "94/94 ━━━━━━━━━━━━━━━━━━━━ 1s 13ms/step - loss: 0.0203 - val_loss: 0.0221\n",
      "Epoch 16/50\n",
      "94/94 ━━━━━━━━━━━━━━━━━━━━ 1s 13ms/step - loss: 0.0202 - val_loss: 0.0221\n",
      "Epoch 17/50\n",
      "94/94 ━━━━━━━━━━━━━━━━━━━━ 1s 13ms/step - loss: 0.0201 - val_loss: 0.0221\n",
      "Epoch 18/50\n",
      "94/94 ━━━━━━━━━━━━━━━━━━━━ 1s 13ms/step - loss: 0.0201 - val_loss: 0.0224\n",
      "Epoch 19/50\n",
      "94/94 ━━━━━━━━━━━━━━━━━━━━ 1s 13ms/step - loss: 0.0201 - val_loss: 0.0222\n",
      "Epoch 20/50\n",
      "94/94 ━━━━━━━━━━━━━━━━━━━━ 1s 15ms/step - loss: 0.0201 - val_loss: 0.0225\n",
      "Epoch 21/50\n",
      "94/94 ━━━━━━━━━━━━━━━━━━━━ 1s 13ms/step - loss: 0.0201 - val_loss: 0.0224\n",
      "Epoch 22/50\n",
      "94/94 ━━━━━━━━━━━━━━━━━━━━ 1s 13ms/step - loss: 0.0200 - val_loss: 0.0222\n",
      "Epoch 23/50\n",
      "94/94 ━━━━━━━━━━━━━━━━━━━━ 1s 13ms/step - loss: 0.0200 - val_loss: 0.0223\n",
      "Epoch 24/50\n",
      "94/94 ━━━━━━━━━━━━━━━━━━━━ 1s 13ms/step - loss: 0.0199 - val_loss: 0.0221\n",
      "Epoch 25/50\n",
      "94/94 ━━━━━━━━━━━━━━━━━━━━ 1s 13ms/step - loss: 0.0199 - val_loss: 0.0224\n",
      "Epoch 26/50\n",
      "94/94 ━━━━━━━━━━━━━━━━━━━━ 1s 13ms/step - loss: 0.0199 - val_loss: 0.0226\n",
      "Epoch 27/50\n",
      "94/94 ━━━━━━━━━━━━━━━━━━━━ 1s 13ms/step - loss: 0.0198 - val_loss: 0.0224\n",
      "Epoch 28/50\n",
      "94/94 ━━━━━━━━━━━━━━━━━━━━ 1s 13ms/step - loss: 0.0198 - val_loss: 0.0226\n",
      "Epoch 29/50\n",
      "94/94 ━━━━━━━━━━━━━━━━━━━━ 1s 13ms/step - loss: 0.0198 - val_loss: 0.0222\n",
      "Epoch 30/50\n",
      "94/94 ━━━━━━━━━━━━━━━━━━━━ 1s 13ms/step - loss: 0.0197 - val_loss: 0.0220\n",
      "Epoch 31/50\n",
      "94/94 ━━━━━━━━━━━━━━━━━━━━ 1s 13ms/step - loss: 0.0197 - val_loss: 0.0223\n",
      "Epoch 32/50\n",
      "94/94 ━━━━━━━━━━━━━━━━━━━━ 1s 13ms/step - loss: 0.0197 - val_loss: 0.0224\n",
      "Epoch 33/50\n",
      "94/94 ━━━━━━━━━━━━━━━━━━━━ 1s 13ms/step - loss: 0.0196 - val_loss: 0.0225\n",
      "Epoch 34/50\n",
      "94/94 ━━━━━━━━━━━━━━━━━━━━ 1s 13ms/step - loss: 0.0196 - val_loss: 0.0222\n",
      "Epoch 35/50\n",
      "94/94 ━━━━━━━━━━━━━━━━━━━━ 1s 12ms/step - loss: 0.0196 - val_loss: 0.0224\n",
      "Epoch 36/50\n",
      "94/94 ━━━━━━━━━━━━━━━━━━━━ 1s 13ms/step - loss: 0.0196 - val_loss: 0.0224\n",
      "Epoch 37/50\n",
      "94/94 ━━━━━━━━━━━━━━━━━━━━ 1s 13ms/step - loss: 0.0195 - val_loss: 0.0222\n",
      "Epoch 38/50\n",
      "94/94 ━━━━━━━━━━━━━━━━━━━━ 1s 14ms/step - loss: 0.0195 - val_loss: 0.0227\n",
      "Epoch 39/50\n",
      "94/94 ━━━━━━━━━━━━━━━━━━━━ 1s 13ms/step - loss: 0.0194 - val_loss: 0.0219\n",
      "Epoch 40/50\n",
      "94/94 ━━━━━━━━━━━━━━━━━━━━ 1s 13ms/step - loss: 0.0193 - val_loss: 0.0225\n",
      "Epoch 41/50\n",
      "94/94 ━━━━━━━━━━━━━━━━━━━━ 1s 13ms/step - loss: 0.0193 - val_loss: 0.0223\n",
      "Epoch 42/50\n",
      "94/94 ━━━━━━━━━━━━━━━━━━━━ 1s 13ms/step - loss: 0.0192 - val_loss: 0.0221\n",
      "Epoch 43/50\n",
      "94/94 ━━━━━━━━━━━━━━━━━━━━ 1s 13ms/step - loss: 0.0192 - val_loss: 0.0222\n",
      "Epoch 44/50\n",
      "94/94 ━━━━━━━━━━━━━━━━━━━━ 1s 13ms/step - loss: 0.0191 - val_loss: 0.0223\n",
      "Epoch 45/50\n",
      "94/94 ━━━━━━━━━━━━━━━━━━━━ 1s 13ms/step - loss: 0.0191 - val_loss: 0.0220\n",
      "Epoch 46/50\n",
      "94/94 ━━━━━━━━━━━━━━━━━━━━ 1s 13ms/step - loss: 0.0190 - val_loss: 0.0221\n",
      "Epoch 47/50\n",
      "94/94 ━━━━━━━━━━━━━━━━━━━━ 1s 14ms/step - loss: 0.0190 - val_loss: 0.0220\n",
      "Epoch 48/50\n",
      "94/94 ━━━━━━━━━━━━━━━━━━━━ 1s 13ms/step - loss: 0.0190 - val_loss: 0.0223\n",
      "Epoch 49/50\n",
      "94/94 ━━━━━━━━━━━━━━━━━━━━ 1s 13ms/step - loss: 0.0189 - val_loss: 0.0221\n",
      "Epoch 50/50\n",
      "94/94 ━━━━━━━━━━━━━━━━━━━━ 1s 13ms/step - loss: 0.0189 - val_loss: 0.0222\n"
     ]
    },
    {
     "data": {
      "image/png": "[encoded data removed]",
      "text/plain": [
       "<Figure size 1000x600 with 1 Axes>"
      ]
     },
     "metadata": {},
     "output_type": "display_data"
    },
    {
     "name": "stdout",
     "output_type": "stream",
     "text": [
      "1/1 ━━━━━━━━━━━━━━━━━━━━ 0s 96ms/step\n",
      "\n",
      "예측 결과가 'lstm_pred_final.csv' 파일로 저장되었습니다.\n"
     ]
    }
   ],
   "source": [
    "input_features = ['평균기온 ( ℃ )', '최고기온 ( ℃ )', '최저기온 ( ℃ )', '습도 ( % )',\n",
    "                  '풍향 (방향)', '풍속 ( m/s )', '강수량 ( mm )', '일사량 ( MJ/㎡ )',\n",
    "                  '월_sin', '월_cos', '일_sin', '일_cos', '년']\n",
    "\n",
    "output_features = ['평균기온 ( ℃ )', '최고기온 ( ℃ )', '최저기온 ( ℃ )', '습도 ( % )',\n",
    "                   '풍향 (방향)', '풍속 ( m/s )', '강수량 ( mm )', '일사량 ( MJ/㎡ )']\n",
    "\n",
    "scaler_input = MinMaxScaler(feature_range=(0, 1))\n",
    "scaled_input_data = scaler_input.fit_transform(df_lstm[input_features])\n",
    "\n",
    "scaler_output = MinMaxScaler(feature_range=(0, 1))\n",
    "scaled_output_data = scaler_output.fit_transform(df_lstm[output_features])\n",
    "\n",
    "def create_sequences(input_data, output_data, n_steps, n_future):\n",
    "    X, y = [], []\n",
    "    for i in range(len(input_data) - n_steps - n_future + 1):\n",
    "        seq_x = input_data[i:(i + n_steps)]\n",
    "        seq_y = output_data[(i + n_steps):(i + n_steps + n_future)]\n",
    "        X.append(seq_x)\n",
    "        y.append(seq_y)\n",
    "    return np.array(X), np.array(y)\n",
    "\n",
    "n_steps = 90\n",
    "n_future = 30\n",
    "\n",
    "X, y = create_sequences(scaled_input_data, scaled_output_data, n_steps, n_future)\n",
    "\n",
    "split_ratio = 0.8\n",
    "split_index = int(len(X) * split_ratio)\n",
    "\n",
    "X_train, y_train = X[:split_index], y[:split_index]\n",
    "X_val, y_val = X[split_index:], y[split_index:]\n",
    "\n",
    "num_features_input = X.shape[2]\n",
    "num_features_output = y.shape[2]\n",
    "\n",
    "model = Sequential()\n",
    "model.add(Input(shape=(n_steps, num_features_input)))\n",
    "model.add(LSTM(25, activation='tanh', return_sequences=True))\n",
    "model.add(Dropout(0.3))\n",
    "model.add(LSTM(25, activation='tanh'))\n",
    "model.add(Dense(n_future * num_features_output, activation='linear'))\n",
    "model.add(Reshape((n_future, num_features_output)))\n",
    "\n",
    "model.compile(optimizer='adam', loss='mse')\n",
    "\n",
    "history = model.fit(X_train, y_train, epochs=50, verbose=1, \n",
    "                    validation_data=(X_val, y_val))\n",
    "\n",
    "plt.figure(figsize=(10, 6))\n",
    "plt.plot(history.history['loss'], label='훈련 손실 (Training Loss)')\n",
    "plt.plot(history.history['val_loss'], label='검증 손실 (Validation Loss)')\n",
    "plt.title('훈련 및 검증 손실')\n",
    "plt.xlabel('에포크 (Epoch)')\n",
    "plt.ylabel('손실 (Loss)')\n",
    "plt.legend()\n",
    "plt.grid(True)\n",
    "plt.show()\n",
    "\n",
    "last_sequence = X_val[-1:]\n",
    "predicted_values = model.predict(last_sequence)\n",
    "\n",
    "predicted_original_scale = scaler_output.inverse_transform(predicted_values.reshape(-1, num_features_output))\n",
    "predicted_original_scale = predicted_original_scale.reshape(n_future, num_features_output)\n",
    "\n",
    "last_date = weather_df['날짜 (년-월-일)'].iloc[-1]\n",
    "future_dates = [last_date + timedelta(days=i) for i in range(1, n_future + 1)]\n",
    "\n",
    "predicted_df = pd.DataFrame(predicted_original_scale, columns=output_features)\n",
    "predicted_df['날짜 (년-월-일)'] = future_dates\n",
    "predicted_df['월_sin'] = np.sin(2 * np.pi * predicted_df['날짜 (년-월-일)'].dt.month / 12.0)\n",
    "predicted_df['월_cos'] = np.cos(2 * np.pi * predicted_df['날짜 (년-월-일)'].dt.month / 12.0)\n",
    "predicted_df['일_sin'] = np.sin(2 * np.pi * predicted_df['날짜 (년-월-일)'].dt.day / predicted_df['날짜 (년-월-일)'].dt.daysinmonth)\n",
    "predicted_df['일_cos'] = np.cos(2 * np.pi * predicted_df['날짜 (년-월-일)'].dt.day / predicted_df['날짜 (년-월-일)'].dt.daysinmonth)\n",
    "\n",
    "predicted_df.to_csv('lstm_pred_final.csv', encoding='utf-8-sig', index=False)\n",
    "print(\"\\n예측 결과가 'lstm_pred_final.csv' 파일로 저장되었습니다.\")"
   ]
  }
 ],
 "metadata": {
  "kernelspec": {
   "display_name": "Python 3 (ipykernel)",
   "language": "python",
   "name": "python3"
  },
  "language_info": {
   "codemirror_mode": {
    "name": "ipython",
    "version": 3
   },
   "file_extension": ".py",
   "mimetype": "text/x-python",
   "name": "python",
   "nbconvert_exporter": "python",
   "pygments_lexer": "ipython3",
   "version": "3.13.5"
  }
 },
 "nbformat": 4,
 "nbformat_minor": 5
}
